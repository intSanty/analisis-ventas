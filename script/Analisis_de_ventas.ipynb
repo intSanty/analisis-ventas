{
  "nbformat": 4,
  "nbformat_minor": 0,
  "metadata": {
    "colab": {
      "provenance": []
    },
    "kernelspec": {
      "name": "python3",
      "display_name": "Python 3"
    },
    "language_info": {
      "name": "python"
    }
  },
  "cells": [
    {
      "cell_type": "markdown",
      "source": [
        "# ANALISIS DE VENTAS"
      ],
      "metadata": {
        "id": "OZjYhKIoii3g"
      }
    },
    {
      "cell_type": "markdown",
      "source": [
        "## dataframe"
      ],
      "metadata": {
        "id": "wSAKs1J_Shsw"
      }
    },
    {
      "cell_type": "code",
      "execution_count": 47,
      "metadata": {
        "colab": {
          "base_uri": "https://localhost:8080/",
          "height": 687
        },
        "id": "lbyCxp2SCy1R",
        "outputId": "8d8692b4-9946-4b6e-cbfd-16edfa38c832"
      },
      "outputs": [
        {
          "output_type": "execute_result",
          "data": {
            "text/plain": [
              "           Producto A  Producto B  Producto C\n",
              "Lunes             248         360         255\n",
              "Lunes             179         567         353\n",
              "Lunes             807         412         368\n",
              "Miercoles         873         144         117\n",
              "Lunes             621         511         101\n",
              "...               ...         ...         ...\n",
              "Lunes             970         782         454\n",
              "Lunes             488          30         217\n",
              "Lunes             898         575         147\n",
              "Miercoles         735         475         551\n",
              "Martes            201         108         430\n",
              "\n",
              "[100 rows x 3 columns]"
            ],
            "text/html": [
              "\n",
              "  <div id=\"df-5298bee2-cd32-4d82-ab51-0355dfb0f7c1\" class=\"colab-df-container\">\n",
              "    <div>\n",
              "<style scoped>\n",
              "    .dataframe tbody tr th:only-of-type {\n",
              "        vertical-align: middle;\n",
              "    }\n",
              "\n",
              "    .dataframe tbody tr th {\n",
              "        vertical-align: top;\n",
              "    }\n",
              "\n",
              "    .dataframe thead th {\n",
              "        text-align: right;\n",
              "    }\n",
              "</style>\n",
              "<table border=\"1\" class=\"dataframe\">\n",
              "  <thead>\n",
              "    <tr style=\"text-align: right;\">\n",
              "      <th></th>\n",
              "      <th>Producto A</th>\n",
              "      <th>Producto B</th>\n",
              "      <th>Producto C</th>\n",
              "    </tr>\n",
              "  </thead>\n",
              "  <tbody>\n",
              "    <tr>\n",
              "      <th>Lunes</th>\n",
              "      <td>248</td>\n",
              "      <td>360</td>\n",
              "      <td>255</td>\n",
              "    </tr>\n",
              "    <tr>\n",
              "      <th>Lunes</th>\n",
              "      <td>179</td>\n",
              "      <td>567</td>\n",
              "      <td>353</td>\n",
              "    </tr>\n",
              "    <tr>\n",
              "      <th>Lunes</th>\n",
              "      <td>807</td>\n",
              "      <td>412</td>\n",
              "      <td>368</td>\n",
              "    </tr>\n",
              "    <tr>\n",
              "      <th>Miercoles</th>\n",
              "      <td>873</td>\n",
              "      <td>144</td>\n",
              "      <td>117</td>\n",
              "    </tr>\n",
              "    <tr>\n",
              "      <th>Lunes</th>\n",
              "      <td>621</td>\n",
              "      <td>511</td>\n",
              "      <td>101</td>\n",
              "    </tr>\n",
              "    <tr>\n",
              "      <th>...</th>\n",
              "      <td>...</td>\n",
              "      <td>...</td>\n",
              "      <td>...</td>\n",
              "    </tr>\n",
              "    <tr>\n",
              "      <th>Lunes</th>\n",
              "      <td>970</td>\n",
              "      <td>782</td>\n",
              "      <td>454</td>\n",
              "    </tr>\n",
              "    <tr>\n",
              "      <th>Lunes</th>\n",
              "      <td>488</td>\n",
              "      <td>30</td>\n",
              "      <td>217</td>\n",
              "    </tr>\n",
              "    <tr>\n",
              "      <th>Lunes</th>\n",
              "      <td>898</td>\n",
              "      <td>575</td>\n",
              "      <td>147</td>\n",
              "    </tr>\n",
              "    <tr>\n",
              "      <th>Miercoles</th>\n",
              "      <td>735</td>\n",
              "      <td>475</td>\n",
              "      <td>551</td>\n",
              "    </tr>\n",
              "    <tr>\n",
              "      <th>Martes</th>\n",
              "      <td>201</td>\n",
              "      <td>108</td>\n",
              "      <td>430</td>\n",
              "    </tr>\n",
              "  </tbody>\n",
              "</table>\n",
              "<p>100 rows × 3 columns</p>\n",
              "</div>\n",
              "    <div class=\"colab-df-buttons\">\n",
              "\n",
              "  <div class=\"colab-df-container\">\n",
              "    <button class=\"colab-df-convert\" onclick=\"convertToInteractive('df-5298bee2-cd32-4d82-ab51-0355dfb0f7c1')\"\n",
              "            title=\"Convert this dataframe to an interactive table.\"\n",
              "            style=\"display:none;\">\n",
              "\n",
              "  <svg xmlns=\"http://www.w3.org/2000/svg\" height=\"24px\" viewBox=\"0 -960 960 960\">\n",
              "    <path d=\"M120-120v-720h720v720H120Zm60-500h600v-160H180v160Zm220 220h160v-160H400v160Zm0 220h160v-160H400v160ZM180-400h160v-160H180v160Zm440 0h160v-160H620v160ZM180-180h160v-160H180v160Zm440 0h160v-160H620v160Z\"/>\n",
              "  </svg>\n",
              "    </button>\n",
              "\n",
              "  <style>\n",
              "    .colab-df-container {\n",
              "      display:flex;\n",
              "      gap: 12px;\n",
              "    }\n",
              "\n",
              "    .colab-df-convert {\n",
              "      background-color: #E8F0FE;\n",
              "      border: none;\n",
              "      border-radius: 50%;\n",
              "      cursor: pointer;\n",
              "      display: none;\n",
              "      fill: #1967D2;\n",
              "      height: 32px;\n",
              "      padding: 0 0 0 0;\n",
              "      width: 32px;\n",
              "    }\n",
              "\n",
              "    .colab-df-convert:hover {\n",
              "      background-color: #E2EBFA;\n",
              "      box-shadow: 0px 1px 2px rgba(60, 64, 67, 0.3), 0px 1px 3px 1px rgba(60, 64, 67, 0.15);\n",
              "      fill: #174EA6;\n",
              "    }\n",
              "\n",
              "    .colab-df-buttons div {\n",
              "      margin-bottom: 4px;\n",
              "    }\n",
              "\n",
              "    [theme=dark] .colab-df-convert {\n",
              "      background-color: #3B4455;\n",
              "      fill: #D2E3FC;\n",
              "    }\n",
              "\n",
              "    [theme=dark] .colab-df-convert:hover {\n",
              "      background-color: #434B5C;\n",
              "      box-shadow: 0px 1px 3px 1px rgba(0, 0, 0, 0.15);\n",
              "      filter: drop-shadow(0px 1px 2px rgba(0, 0, 0, 0.3));\n",
              "      fill: #FFFFFF;\n",
              "    }\n",
              "  </style>\n",
              "\n",
              "    <script>\n",
              "      const buttonEl =\n",
              "        document.querySelector('#df-5298bee2-cd32-4d82-ab51-0355dfb0f7c1 button.colab-df-convert');\n",
              "      buttonEl.style.display =\n",
              "        google.colab.kernel.accessAllowed ? 'block' : 'none';\n",
              "\n",
              "      async function convertToInteractive(key) {\n",
              "        const element = document.querySelector('#df-5298bee2-cd32-4d82-ab51-0355dfb0f7c1');\n",
              "        const dataTable =\n",
              "          await google.colab.kernel.invokeFunction('convertToInteractive',\n",
              "                                                    [key], {});\n",
              "        if (!dataTable) return;\n",
              "\n",
              "        const docLinkHtml = 'Like what you see? Visit the ' +\n",
              "          '<a target=\"_blank\" href=https://colab.research.google.com/notebooks/data_table.ipynb>data table notebook</a>'\n",
              "          + ' to learn more about interactive tables.';\n",
              "        element.innerHTML = '';\n",
              "        dataTable['output_type'] = 'display_data';\n",
              "        await google.colab.output.renderOutput(dataTable, element);\n",
              "        const docLink = document.createElement('div');\n",
              "        docLink.innerHTML = docLinkHtml;\n",
              "        element.appendChild(docLink);\n",
              "      }\n",
              "    </script>\n",
              "  </div>\n",
              "\n",
              "\n",
              "<div id=\"df-53765838-a713-4736-863a-3b86c041fe0e\">\n",
              "  <button class=\"colab-df-quickchart\" onclick=\"quickchart('df-53765838-a713-4736-863a-3b86c041fe0e')\"\n",
              "            title=\"Suggest charts.\"\n",
              "            style=\"display:none;\">\n",
              "\n",
              "<svg xmlns=\"http://www.w3.org/2000/svg\" height=\"24px\"viewBox=\"0 0 24 24\"\n",
              "     width=\"24px\">\n",
              "    <g>\n",
              "        <path d=\"M19 3H5c-1.1 0-2 .9-2 2v14c0 1.1.9 2 2 2h14c1.1 0 2-.9 2-2V5c0-1.1-.9-2-2-2zM9 17H7v-7h2v7zm4 0h-2V7h2v10zm4 0h-2v-4h2v4z\"/>\n",
              "    </g>\n",
              "</svg>\n",
              "  </button>\n",
              "\n",
              "<style>\n",
              "  .colab-df-quickchart {\n",
              "    background-color: #E8F0FE;\n",
              "    border: none;\n",
              "    border-radius: 50%;\n",
              "    cursor: pointer;\n",
              "    display: none;\n",
              "    fill: #1967D2;\n",
              "    height: 32px;\n",
              "    padding: 0 0 0 0;\n",
              "    width: 32px;\n",
              "  }\n",
              "\n",
              "  .colab-df-quickchart:hover {\n",
              "    background-color: #E2EBFA;\n",
              "    box-shadow: 0px 1px 2px rgba(60, 64, 67, 0.3), 0px 1px 3px 1px rgba(60, 64, 67, 0.15);\n",
              "    fill: #174EA6;\n",
              "  }\n",
              "\n",
              "  [theme=dark] .colab-df-quickchart {\n",
              "    background-color: #3B4455;\n",
              "    fill: #D2E3FC;\n",
              "  }\n",
              "\n",
              "  [theme=dark] .colab-df-quickchart:hover {\n",
              "    background-color: #434B5C;\n",
              "    box-shadow: 0px 1px 3px 1px rgba(0, 0, 0, 0.15);\n",
              "    filter: drop-shadow(0px 1px 2px rgba(0, 0, 0, 0.3));\n",
              "    fill: #FFFFFF;\n",
              "  }\n",
              "</style>\n",
              "\n",
              "  <script>\n",
              "    async function quickchart(key) {\n",
              "      const charts = await google.colab.kernel.invokeFunction(\n",
              "          'suggestCharts', [key], {});\n",
              "    }\n",
              "    (() => {\n",
              "      let quickchartButtonEl =\n",
              "        document.querySelector('#df-53765838-a713-4736-863a-3b86c041fe0e button');\n",
              "      quickchartButtonEl.style.display =\n",
              "        google.colab.kernel.accessAllowed ? 'block' : 'none';\n",
              "    })();\n",
              "  </script>\n",
              "</div>\n",
              "    </div>\n",
              "  </div>\n"
            ]
          },
          "metadata": {},
          "execution_count": 47
        }
      ],
      "source": [
        "import numpy as np\n",
        "import pandas as pd\n",
        "\n",
        "# generando datos aleatorios para tres productos\n",
        "ventas_producto_a = np.random.randint(50, 1000, size=100)\n",
        "ventas_producto_b = np.random.randint(30, 800, size=100)\n",
        "ventas_producto_c = np.random.randint(20, 600, size=100)\n",
        "\n",
        "# creando un indice con los dias de la semana\n",
        "dias = ['Lunes', 'Martes', 'Miercoles', 'Jueves', 'Viernes']\n",
        "indice = np.random.choice(dias, size=100)\n",
        "\n",
        "# creando un DataFrame a partir de los datos generados\n",
        "data = {\n",
        "    'Producto A': ventas_producto_a,\n",
        "    'Producto B': ventas_producto_b,\n",
        "    'Producto C': ventas_producto_c\n",
        "}\n",
        "\n",
        "df = pd.DataFrame(data, index=indice)\n",
        "\n",
        "# mostrando el dataframe\n",
        "df\n"
      ]
    },
    {
      "cell_type": "markdown",
      "source": [
        "## ventas totales"
      ],
      "metadata": {
        "id": "OxHqUbrMSr7y"
      }
    },
    {
      "cell_type": "code",
      "source": [
        "# calculando ventas totales de cada producto durante la semana\n",
        "ventas_totales_producto_a = df['Producto A'].groupby(df.index).sum()\n",
        "ventas_totales_producto_b = df['Producto B'].groupby(df.index).sum()\n",
        "ventas_totales_producto_c = df['Producto C'].groupby(df.index).sum()\n",
        "\n",
        "# mostrando las ventas totales de cada producto\n",
        "print(\"Ventas totales del Producto A:\")\n",
        "print(ventas_totales_producto_a)\n",
        "print(\"\\nVentas totales del Producto B:\")\n",
        "print(ventas_totales_producto_b)\n",
        "print(\"\\nVentas totales del Producto C:\")\n",
        "print(ventas_totales_producto_c)"
      ],
      "metadata": {
        "colab": {
          "base_uri": "https://localhost:8080/"
        },
        "id": "4lzA-A36SwAF",
        "outputId": "eebfd281-896f-4ba1-b93a-079371179e6e"
      },
      "execution_count": 49,
      "outputs": [
        {
          "output_type": "stream",
          "name": "stdout",
          "text": [
            "Ventas totales del Producto A:\n",
            "Jueves        8344\n",
            "Lunes        13963\n",
            "Martes       10777\n",
            "Miercoles     9844\n",
            "Viernes      10712\n",
            "Name: Producto A, dtype: int64\n",
            "\n",
            "Ventas totales del Producto B:\n",
            "Jueves        6359\n",
            "Lunes        10587\n",
            "Martes        7708\n",
            "Miercoles     7584\n",
            "Viernes       8206\n",
            "Name: Producto B, dtype: int64\n",
            "\n",
            "Ventas totales del Producto C:\n",
            "Jueves       3874\n",
            "Lunes        8639\n",
            "Martes       5687\n",
            "Miercoles    5658\n",
            "Viernes      7202\n",
            "Name: Producto C, dtype: int64\n"
          ]
        }
      ]
    },
    {
      "cell_type": "markdown",
      "source": [
        "## dia en que se vendió mas cada producto"
      ],
      "metadata": {
        "id": "ivFRIUJwUDRv"
      }
    },
    {
      "cell_type": "code",
      "source": [
        "# encontrando el día en que se vendió más de cada producto\n",
        "dia_max_venta_producto_a = df['Producto A'].groupby(df.index).sum().idxmax()\n",
        "dia_max_venta_producto_b = df['Producto B'].groupby(df.index).sum().idxmax()\n",
        "dia_max_venta_producto_c = df['Producto C'].groupby(df.index).sum().idxmax()\n",
        "\n",
        "# mostrando los días en que se vendió más de cada producto\n",
        "print(\"Día con más ventas para el Producto A: \", dia_max_venta_producto_a)\n",
        "print()\n",
        "print(\"Día con más ventas para el Producto B: \", dia_max_venta_producto_b)\n",
        "print()\n",
        "print(\"Día con más ventas para el Producto C: \", dia_max_venta_producto_c)\n",
        "print()"
      ],
      "metadata": {
        "colab": {
          "base_uri": "https://localhost:8080/"
        },
        "id": "PxkBJxIPULmv",
        "outputId": "091dfe02-baec-4435-cda4-0b4dc795a17c"
      },
      "execution_count": 50,
      "outputs": [
        {
          "output_type": "stream",
          "name": "stdout",
          "text": [
            "Día con más ventas para el Producto A:  Lunes\n",
            "\n",
            "Día con más ventas para el Producto B:  Lunes\n",
            "\n",
            "Día con más ventas para el Producto C:  Lunes\n",
            "\n"
          ]
        }
      ]
    },
    {
      "cell_type": "markdown",
      "source": [
        "## promedio de ventas de cada producto"
      ],
      "metadata": {
        "id": "JvLHONshXFa5"
      }
    },
    {
      "cell_type": "code",
      "source": [
        "# calculando el promedio de ventas diarias de cada producto\n",
        "prom_ventas_producto_a = df['Producto A'].groupby(df.index).mean()\n",
        "prom_ventas_producto_b = df['Producto B'].groupby(df.index).mean()\n",
        "prom_ventas_producto_c = df['Producto C'].groupby(df.index).mean()\n",
        "\n",
        "# mostrando el promedio de ventas diarias de cada producto\n",
        "print(\"Promedio de ventas diarias del Producto A:\")\n",
        "print(prom_ventas_producto_a)\n",
        "print(\"\\nPromedio de ventas diarias del Producto B:\")\n",
        "print(prom_ventas_producto_b)\n",
        "print(\"\\nPromedio de ventas diarias del Producto C:\")\n",
        "print(prom_ventas_producto_c)"
      ],
      "metadata": {
        "colab": {
          "base_uri": "https://localhost:8080/"
        },
        "id": "G4PJ97a3XqIn",
        "outputId": "556001af-be98-42e7-dff6-397c289935b6"
      },
      "execution_count": 51,
      "outputs": [
        {
          "output_type": "stream",
          "name": "stdout",
          "text": [
            "Promedio de ventas diarias del Producto A:\n",
            "Jueves       596.000000\n",
            "Lunes        558.520000\n",
            "Martes       513.190476\n",
            "Miercoles    518.105263\n",
            "Viernes      510.095238\n",
            "Name: Producto A, dtype: float64\n",
            "\n",
            "Promedio de ventas diarias del Producto B:\n",
            "Jueves       454.214286\n",
            "Lunes        423.480000\n",
            "Martes       367.047619\n",
            "Miercoles    399.157895\n",
            "Viernes      390.761905\n",
            "Name: Producto B, dtype: float64\n",
            "\n",
            "Promedio de ventas diarias del Producto C:\n",
            "Jueves       276.714286\n",
            "Lunes        345.560000\n",
            "Martes       270.809524\n",
            "Miercoles    297.789474\n",
            "Viernes      342.952381\n",
            "Name: Producto C, dtype: float64\n"
          ]
        }
      ]
    },
    {
      "cell_type": "markdown",
      "source": [
        "## productos con menor venta en un dia"
      ],
      "metadata": {
        "id": "I4Kt4lcXb8mn"
      }
    },
    {
      "cell_type": "code",
      "source": [
        "# encontrando el producto con la menor cantidad de ventas en un dia\n",
        "producto_min_venta = df.idxmin(axis=1)\n",
        "cantidad_min_venta = df.min(axis=1)\n",
        "\n",
        "# mostrando el producto con la menor cantidad de ventas en un día\n",
        "for idx, row in enumerate(df.iterrows()):\n",
        "    dia = row[0]\n",
        "    producto = producto_min_venta[idx]\n",
        "    cantidad = cantidad_min_venta[idx]\n",
        "    print(f\"En {dia}, el producto con menor venta fue {producto} con {cantidad} unidades.\")"
      ],
      "metadata": {
        "id": "6vuudQuMcBAF"
      },
      "execution_count": null,
      "outputs": []
    },
    {
      "cell_type": "markdown",
      "source": [
        "## grafico de ventas diarias"
      ],
      "metadata": {
        "id": "ILNCD54ye1yj"
      }
    },
    {
      "cell_type": "code",
      "source": [
        "import matplotlib.pyplot as plt\n",
        "\n",
        "# graficando las ventas diarias de cada producto\n",
        "plt.figure(figsize=(10, 6))\n",
        "df.groupby(df.index)['Producto A'].sum().plot(label='Producto A')\n",
        "df.groupby(df.index)['Producto B'].sum().plot(label='Producto B')\n",
        "df.groupby(df.index)['Producto C'].sum().plot(label='Producto C')\n",
        "\n",
        "plt.title('Ventas Diarias')\n",
        "plt.xlabel('Día de la semana')\n",
        "plt.ylabel('Ventas')\n",
        "plt.legend()\n",
        "plt.grid()\n",
        "plt.show()"
      ],
      "metadata": {
        "colab": {
          "base_uri": "https://localhost:8080/",
          "height": 564
        },
        "id": "fW1YOfXAe45F",
        "outputId": "7e910221-fdf1-4509-e3c9-bf53a917ae47"
      },
      "execution_count": 48,
      "outputs": [
        {
          "output_type": "display_data",
          "data": {
            "text/plain": [
              "<Figure size 1000x600 with 1 Axes>"
            ],
            "image/png": "[encoded data removed]"
          },
          "metadata": {}
        }
      ]
    }
  ]
}